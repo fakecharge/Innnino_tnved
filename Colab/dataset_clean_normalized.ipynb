{
 "cells": [
  {
   "cell_type": "code",
   "execution_count": 1,
   "metadata": {},
   "outputs": [],
   "source": [
    "import pandas as pd\n",
    "import re\n",
    "import nltk   \n",
    "from urllib.request import urlopen\n",
    "from nltk.stem import SnowballStemmer"
   ]
  },
  {
   "cell_type": "code",
   "execution_count": 2,
   "metadata": {},
   "outputs": [],
   "source": [
    "# прочитаем основные данные\n",
    "table = pd.read_csv('dataset_20211126.csv', sep=';', encoding='cp1251')"
   ]
  },
  {
   "cell_type": "code",
   "execution_count": 3,
   "metadata": {},
   "outputs": [
    {
     "data": {
      "text/html": [
       "<div>\n",
       "<style scoped>\n",
       "    .dataframe tbody tr th:only-of-type {\n",
       "        vertical-align: middle;\n",
       "    }\n",
       "\n",
       "    .dataframe tbody tr th {\n",
       "        vertical-align: top;\n",
       "    }\n",
       "\n",
       "    .dataframe thead th {\n",
       "        text-align: right;\n",
       "    }\n",
       "</style>\n",
       "<table border=\"1\" class=\"dataframe\">\n",
       "  <thead>\n",
       "    <tr style=\"text-align: right;\">\n",
       "      <th></th>\n",
       "      <th>TNVED</th>\n",
       "      <th>OPISANIE</th>\n",
       "      <th>DATA</th>\n",
       "    </tr>\n",
       "  </thead>\n",
       "  <tbody>\n",
       "    <tr>\n",
       "      <th>0</th>\n",
       "      <td>9025</td>\n",
       "      <td>ЧАСТИ И ПРИНАДЛЕЖНОСТИ АППАРАТУРЫ ПОЗ.9025, НЕ...</td>\n",
       "      <td>07.09.2021</td>\n",
       "    </tr>\n",
       "    <tr>\n",
       "      <th>1</th>\n",
       "      <td>8504</td>\n",
       "      <td>ТРАНСФОРМАТОРЫ, МОЩНОСТЬЮ БОЛЕЕ 1 КВА, НО НЕ Б...</td>\n",
       "      <td>07.09.2021</td>\n",
       "    </tr>\n",
       "    <tr>\n",
       "      <th>2</th>\n",
       "      <td>8481</td>\n",
       "      <td>КЛАПАНЫ ЗАПОРНЫЕ ИЗ СТАЛИ, НЕ ВОЕННОГО НАЗНАЧЕ...</td>\n",
       "      <td>07.09.2021</td>\n",
       "    </tr>\n",
       "    <tr>\n",
       "      <th>3</th>\n",
       "      <td>8531</td>\n",
       "      <td>УСТРОЙСТВА СИГНАЛИЗАЦИОННЫЕ ОХРАННЫЕ И УСТРОЙС...</td>\n",
       "      <td>07.09.2021</td>\n",
       "    </tr>\n",
       "    <tr>\n",
       "      <th>4</th>\n",
       "      <td>3402</td>\n",
       "      <td>ВЕЩЕСТВА ПОВЕРХНОСТНО-АКТИВНЫЕ ОРГАНИЧЕСКИЕ, А...</td>\n",
       "      <td>02.09.2021</td>\n",
       "    </tr>\n",
       "  </tbody>\n",
       "</table>\n",
       "</div>"
      ],
      "text/plain": [
       "   TNVED                                           OPISANIE        DATA\n",
       "0   9025  ЧАСТИ И ПРИНАДЛЕЖНОСТИ АППАРАТУРЫ ПОЗ.9025, НЕ...  07.09.2021\n",
       "1   8504  ТРАНСФОРМАТОРЫ, МОЩНОСТЬЮ БОЛЕЕ 1 КВА, НО НЕ Б...  07.09.2021\n",
       "2   8481  КЛАПАНЫ ЗАПОРНЫЕ ИЗ СТАЛИ, НЕ ВОЕННОГО НАЗНАЧЕ...  07.09.2021\n",
       "3   8531  УСТРОЙСТВА СИГНАЛИЗАЦИОННЫЕ ОХРАННЫЕ И УСТРОЙС...  07.09.2021\n",
       "4   3402  ВЕЩЕСТВА ПОВЕРХНОСТНО-АКТИВНЫЕ ОРГАНИЧЕСКИЕ, А...  02.09.2021"
      ]
     },
     "execution_count": 3,
     "metadata": {},
     "output_type": "execute_result"
    }
   ],
   "source": [
    "table.head(5)"
   ]
  },
  {
   "cell_type": "code",
   "execution_count": 4,
   "metadata": {},
   "outputs": [
    {
     "name": "stdout",
     "output_type": "stream",
     "text": [
      "размер исходного датасета:  (4177899, 3)\n"
     ]
    }
   ],
   "source": [
    "shape_full = table.shape\n",
    "print(\"размер исходного датасета: \", shape_full)"
   ]
  },
  {
   "cell_type": "code",
   "execution_count": 5,
   "metadata": {},
   "outputs": [],
   "source": [
    "# дата нам не понадобятся\n",
    "del table['DATA']"
   ]
  },
  {
   "cell_type": "code",
   "execution_count": 6,
   "metadata": {},
   "outputs": [
    {
     "data": {
      "text/html": [
       "<div>\n",
       "<style scoped>\n",
       "    .dataframe tbody tr th:only-of-type {\n",
       "        vertical-align: middle;\n",
       "    }\n",
       "\n",
       "    .dataframe tbody tr th {\n",
       "        vertical-align: top;\n",
       "    }\n",
       "\n",
       "    .dataframe thead th {\n",
       "        text-align: right;\n",
       "    }\n",
       "</style>\n",
       "<table border=\"1\" class=\"dataframe\">\n",
       "  <thead>\n",
       "    <tr style=\"text-align: right;\">\n",
       "      <th></th>\n",
       "      <th>OPISANIE</th>\n",
       "    </tr>\n",
       "  </thead>\n",
       "  <tbody>\n",
       "    <tr>\n",
       "      <th>count</th>\n",
       "      <td>1192.000000</td>\n",
       "    </tr>\n",
       "    <tr>\n",
       "      <th>mean</th>\n",
       "      <td>3504.948826</td>\n",
       "    </tr>\n",
       "    <tr>\n",
       "      <th>std</th>\n",
       "      <td>11335.752609</td>\n",
       "    </tr>\n",
       "    <tr>\n",
       "      <th>min</th>\n",
       "      <td>1.000000</td>\n",
       "    </tr>\n",
       "    <tr>\n",
       "      <th>25%</th>\n",
       "      <td>94.000000</td>\n",
       "    </tr>\n",
       "    <tr>\n",
       "      <th>50%</th>\n",
       "      <td>508.000000</td>\n",
       "    </tr>\n",
       "    <tr>\n",
       "      <th>75%</th>\n",
       "      <td>2101.250000</td>\n",
       "    </tr>\n",
       "    <tr>\n",
       "      <th>max</th>\n",
       "      <td>208058.000000</td>\n",
       "    </tr>\n",
       "  </tbody>\n",
       "</table>\n",
       "</div>"
      ],
      "text/plain": [
       "            OPISANIE\n",
       "count    1192.000000\n",
       "mean     3504.948826\n",
       "std     11335.752609\n",
       "min         1.000000\n",
       "25%        94.000000\n",
       "50%       508.000000\n",
       "75%      2101.250000\n",
       "max    208058.000000"
      ]
     },
     "execution_count": 6,
     "metadata": {},
     "output_type": "execute_result"
    }
   ],
   "source": [
    "# посмотрим сколько уникальных TNVED кодов\n",
    "table.groupby(['TNVED']).count().describe()"
   ]
  },
  {
   "cell_type": "code",
   "execution_count": 7,
   "metadata": {},
   "outputs": [],
   "source": [
    "# видно что уникальных TNVED кодов в базе 1192"
   ]
  },
  {
   "cell_type": "code",
   "execution_count": 8,
   "metadata": {},
   "outputs": [
    {
     "data": {
      "text/html": [
       "<div>\n",
       "<style scoped>\n",
       "    .dataframe tbody tr th:only-of-type {\n",
       "        vertical-align: middle;\n",
       "    }\n",
       "\n",
       "    .dataframe tbody tr th {\n",
       "        vertical-align: top;\n",
       "    }\n",
       "\n",
       "    .dataframe thead th {\n",
       "        text-align: right;\n",
       "    }\n",
       "</style>\n",
       "<table border=\"1\" class=\"dataframe\">\n",
       "  <thead>\n",
       "    <tr style=\"text-align: right;\">\n",
       "      <th></th>\n",
       "      <th>TNVED</th>\n",
       "    </tr>\n",
       "  </thead>\n",
       "  <tbody>\n",
       "    <tr>\n",
       "      <th>count</th>\n",
       "      <td>1.579686e+06</td>\n",
       "    </tr>\n",
       "    <tr>\n",
       "      <th>mean</th>\n",
       "      <td>2.644765e+00</td>\n",
       "    </tr>\n",
       "    <tr>\n",
       "      <th>std</th>\n",
       "      <td>1.698474e+01</td>\n",
       "    </tr>\n",
       "    <tr>\n",
       "      <th>min</th>\n",
       "      <td>1.000000e+00</td>\n",
       "    </tr>\n",
       "    <tr>\n",
       "      <th>25%</th>\n",
       "      <td>1.000000e+00</td>\n",
       "    </tr>\n",
       "    <tr>\n",
       "      <th>50%</th>\n",
       "      <td>1.000000e+00</td>\n",
       "    </tr>\n",
       "    <tr>\n",
       "      <th>75%</th>\n",
       "      <td>1.000000e+00</td>\n",
       "    </tr>\n",
       "    <tr>\n",
       "      <th>max</th>\n",
       "      <td>6.363000e+03</td>\n",
       "    </tr>\n",
       "  </tbody>\n",
       "</table>\n",
       "</div>"
      ],
      "text/plain": [
       "              TNVED\n",
       "count  1.579686e+06\n",
       "mean   2.644765e+00\n",
       "std    1.698474e+01\n",
       "min    1.000000e+00\n",
       "25%    1.000000e+00\n",
       "50%    1.000000e+00\n",
       "75%    1.000000e+00\n",
       "max    6.363000e+03"
      ]
     },
     "execution_count": 8,
     "metadata": {},
     "output_type": "execute_result"
    }
   ],
   "source": [
    "# проверим вдруг есть прям одинаковые строки, для этого сгруппируем по описание\n",
    "table.groupby(['OPISANIE']).count().describe()"
   ]
  },
  {
   "cell_type": "code",
   "execution_count": 9,
   "metadata": {},
   "outputs": [],
   "source": [
    "# видно что много повторяющихся описаний, так как уникальных описаний в разы меньше, чем данных в датасете\n",
    "# удалим, повторяющиеся данные"
   ]
  },
  {
   "cell_type": "code",
   "execution_count": 10,
   "metadata": {},
   "outputs": [
    {
     "name": "stdout",
     "output_type": "stream",
     "text": [
      "размер датасета после удаления дубликатов:  (1598797, 2)\n"
     ]
    }
   ],
   "source": [
    "table = table.drop_duplicates(keep='last')\n",
    "shape_after_drop_duplicate = table.shape\n",
    "print(\"размер датасета после удаления дубликатов: \", shape_after_drop_duplicate)"
   ]
  },
  {
   "cell_type": "code",
   "execution_count": 11,
   "metadata": {},
   "outputs": [],
   "source": [
    "# сохраним \n",
    "table.to_csv('dataset_without_duplicate.csv')"
   ]
  },
  {
   "cell_type": "code",
   "execution_count": 12,
   "metadata": {},
   "outputs": [
    {
     "data": {
      "text/html": [
       "<div>\n",
       "<style scoped>\n",
       "    .dataframe tbody tr th:only-of-type {\n",
       "        vertical-align: middle;\n",
       "    }\n",
       "\n",
       "    .dataframe tbody tr th {\n",
       "        vertical-align: top;\n",
       "    }\n",
       "\n",
       "    .dataframe thead th {\n",
       "        text-align: right;\n",
       "    }\n",
       "</style>\n",
       "<table border=\"1\" class=\"dataframe\">\n",
       "  <thead>\n",
       "    <tr style=\"text-align: right;\">\n",
       "      <th></th>\n",
       "      <th>TNVED</th>\n",
       "      <th>OPISANIE</th>\n",
       "    </tr>\n",
       "  </thead>\n",
       "  <tbody>\n",
       "    <tr>\n",
       "      <th>1</th>\n",
       "      <td>8504</td>\n",
       "      <td>ТРАНСФОРМАТОРЫ, МОЩНОСТЬЮ БОЛЕЕ 1 КВА, НО НЕ Б...</td>\n",
       "    </tr>\n",
       "    <tr>\n",
       "      <th>7</th>\n",
       "      <td>9004</td>\n",
       "      <td>ОЧКИ КОРРИГИРУЮЩИЕ, С ЛИНЗАМИ ИЗ ПЛАСТМАССЫ, В...</td>\n",
       "    </tr>\n",
       "    <tr>\n",
       "      <th>8</th>\n",
       "      <td>9019</td>\n",
       "      <td>РОЛИК МАССАЖНЫЙ ДЛЯ ЛИЦА, ИЗ АГЛОМЕРИРОВАННОГО...</td>\n",
       "    </tr>\n",
       "    <tr>\n",
       "      <th>9</th>\n",
       "      <td>9405</td>\n",
       "      <td>СВЕТИЛЬНИКИ УЛИЧНЫЕ, ИЗ МЕТАЛЛА И ПЛАСТМАССЫ; ...</td>\n",
       "    </tr>\n",
       "    <tr>\n",
       "      <th>10</th>\n",
       "      <td>9405</td>\n",
       "      <td>СВЕТИЛЬНИКИ-ФОНАРИ УЛИЧНЫЕ, ТРЕКОВЫЕ, ДЛЯ ПОДС...</td>\n",
       "    </tr>\n",
       "  </tbody>\n",
       "</table>\n",
       "</div>"
      ],
      "text/plain": [
       "    TNVED                                           OPISANIE\n",
       "1    8504  ТРАНСФОРМАТОРЫ, МОЩНОСТЬЮ БОЛЕЕ 1 КВА, НО НЕ Б...\n",
       "7    9004  ОЧКИ КОРРИГИРУЮЩИЕ, С ЛИНЗАМИ ИЗ ПЛАСТМАССЫ, В...\n",
       "8    9019  РОЛИК МАССАЖНЫЙ ДЛЯ ЛИЦА, ИЗ АГЛОМЕРИРОВАННОГО...\n",
       "9    9405  СВЕТИЛЬНИКИ УЛИЧНЫЕ, ИЗ МЕТАЛЛА И ПЛАСТМАССЫ; ...\n",
       "10   9405  СВЕТИЛЬНИКИ-ФОНАРИ УЛИЧНЫЕ, ТРЕКОВЫЕ, ДЛЯ ПОДС..."
      ]
     },
     "execution_count": 12,
     "metadata": {},
     "output_type": "execute_result"
    }
   ],
   "source": [
    "table.head(5)"
   ]
  },
  {
   "cell_type": "code",
   "execution_count": 13,
   "metadata": {},
   "outputs": [
    {
     "data": {
      "text/plain": [
       "TNVED                                                    7318\n",
       "OPISANIE    НОВЫЕ ЗАПАСНЫЕ ЧАСТИ ДЛЯ ФРОНТАЛЬНЫХ КОЛЕСНЫХ ...\n",
       "Name: 77, dtype: object"
      ]
     },
     "execution_count": 13,
     "metadata": {},
     "output_type": "execute_result"
    }
   ],
   "source": [
    "# как выглядит описание\n",
    "table.iloc[30]"
   ]
  },
  {
   "cell_type": "code",
   "execution_count": 14,
   "metadata": {},
   "outputs": [],
   "source": [
    "def clean(text):\n",
    "    text = text.lower()\n",
    "    \n",
    "    text = text + ' '\n",
    "    text = text.replace(' не ', ' не')\n",
    "    text = text.replace(' без ', ' без')\n",
    "    text = text.replace(' назначения', 'назначения')\n",
    "    \n",
    "    text = re.sub('\\W',' ', text) # Любая не-буква, не-цифра и не подчёркивание\n",
    "    \n",
    "    text = text.replace(' и ',' ')\n",
    "    text = text.replace(' но ',' ')\n",
    "    text = text.replace(' для ',' ')\n",
    "    text = text.replace(' недля ',' недля')\n",
    "    text = text.replace(' неявляется ',' неявляется')\n",
    "    text = text.replace(' неявляются ',' неявляются')\n",
    "    text = text.replace(' несодержит ',' несодержит')\n",
    "    text = text.replace(' несодержат ',' несодержат')\n",
    "    text = text.replace(' неимеются ',' неимеются')\n",
    "    text = text.replace(' неимеется ',' неимеется')\n",
    "    text = text.replace(' неимеют ',' неимеют')\n",
    "    text = text.replace(' неимеет ',' неимеет')\n",
    "    text = text.replace(' из ',' ')\n",
    "    text = text.replace(' поз ',' ')\n",
    "    text = text.replace(' как ',' ')\n",
    "    \n",
    "    text = text.replace(' более ',' ')\n",
    "    text = text.replace(' менее ',' ')\n",
    "    text = text.replace(' неболее ',' ')\n",
    "    text = text.replace(' неменее ',' ')\n",
    "    text = text.replace(' всего ',' ')\n",
    "    \n",
    "#     text = re.sub('.\\S',' ', text) # Точка и любой НЕ пробельный символ\n",
    "#     text = re.sub(',\\S',' ', text) # Запятая и любой НЕ пробельный символ\n",
    "#     text = re.sub(';\\S',' ', text) #\n",
    "    \n",
    "    text = re.sub(r'[^а-яА-Я\\s]+', '', text)\n",
    "    text = text.replace(' кг\\s',' ')\n",
    "    \n",
    "    text = re.sub('ква\\s',' ', text)\n",
    "    \n",
    "    text = re.sub('\\s\\w\\s',' ', text) # Одна буква\n",
    "    text = re.sub('\\s\\w\\w\\s',' ', text) # две буквы\n",
    "    text = re.sub('\\s\\w\\w\\s',' ', text) # две буквы\n",
    "    text = re.sub('\\s\\w\\w\\s',' ', text) # две буквы\n",
    "    text = re.sub('\\s\\w\\s',' ', text) # Одна буква\n",
    "\n",
    "    return text"
   ]
  },
  {
   "cell_type": "code",
   "execution_count": 15,
   "metadata": {},
   "outputs": [
    {
     "data": {
      "text/html": [
       "<div>\n",
       "<style scoped>\n",
       "    .dataframe tbody tr th:only-of-type {\n",
       "        vertical-align: middle;\n",
       "    }\n",
       "\n",
       "    .dataframe tbody tr th {\n",
       "        vertical-align: top;\n",
       "    }\n",
       "\n",
       "    .dataframe thead th {\n",
       "        text-align: right;\n",
       "    }\n",
       "</style>\n",
       "<table border=\"1\" class=\"dataframe\">\n",
       "  <thead>\n",
       "    <tr style=\"text-align: right;\">\n",
       "      <th></th>\n",
       "      <th>TNVED</th>\n",
       "      <th>OPISANIE</th>\n",
       "    </tr>\n",
       "  </thead>\n",
       "  <tbody>\n",
       "    <tr>\n",
       "      <th>1</th>\n",
       "      <td>8504</td>\n",
       "      <td>трансформаторы  мощностью       нелом электроо...</td>\n",
       "    </tr>\n",
       "    <tr>\n",
       "      <th>7</th>\n",
       "      <td>9004</td>\n",
       "      <td>очки корригирующие  линзами пластмассы  полиме...</td>\n",
       "    </tr>\n",
       "    <tr>\n",
       "      <th>8</th>\n",
       "      <td>9019</td>\n",
       "      <td>ролик массажный лица  агломерированного  искус...</td>\n",
       "    </tr>\n",
       "    <tr>\n",
       "      <th>9</th>\n",
       "      <td>9405</td>\n",
       "      <td>светильники уличные  металла пластмассы  предн...</td>\n",
       "    </tr>\n",
       "    <tr>\n",
       "      <th>10</th>\n",
       "      <td>9405</td>\n",
       "      <td>светильники фонари уличные  трековые  подсветк...</td>\n",
       "    </tr>\n",
       "  </tbody>\n",
       "</table>\n",
       "</div>"
      ],
      "text/plain": [
       "    TNVED                                           OPISANIE\n",
       "1    8504  трансформаторы  мощностью       нелом электроо...\n",
       "7    9004  очки корригирующие  линзами пластмассы  полиме...\n",
       "8    9019  ролик массажный лица  агломерированного  искус...\n",
       "9    9405  светильники уличные  металла пластмассы  предн...\n",
       "10   9405  светильники фонари уличные  трековые  подсветк..."
      ]
     },
     "execution_count": 15,
     "metadata": {},
     "output_type": "execute_result"
    }
   ],
   "source": [
    "table['OPISANIE'] = table['OPISANIE'].apply(clean)\n",
    "table.head()"
   ]
  },
  {
   "cell_type": "code",
   "execution_count": 16,
   "metadata": {},
   "outputs": [
    {
     "name": "stdout",
     "output_type": "stream",
     "text": [
      "изначальный:  (4177899, 3)\n",
      "после первой очистки:  (1598797, 2)\n",
      "после второй очистки:  (1242807, 2)\n"
     ]
    }
   ],
   "source": [
    "table = table.drop_duplicates(keep='last')\n",
    "shape_after_drop_duplicate2 = table.shape\n",
    "print('изначальный: ', shape_full)\n",
    "print('после первой очистки: ', shape_after_drop_duplicate)\n",
    "print('после второй очистки: ', shape_after_drop_duplicate2)\n"
   ]
  },
  {
   "cell_type": "code",
   "execution_count": 17,
   "metadata": {},
   "outputs": [],
   "source": [
    "stemmer_ru = SnowballStemmer(\"russian\")\n",
    "# нормализуем слова     \n",
    "def norm_str(text):\n",
    "    text = text.split()\n",
    "    temp = [stemmer_ru.stem(word) for word in text]\n",
    "    str_norm = ' '.join(temp)\n",
    "    return str_norm"
   ]
  },
  {
   "cell_type": "code",
   "execution_count": 18,
   "metadata": {},
   "outputs": [],
   "source": [
    "# нормализуем слова\n",
    "temp = pd.DataFrame()\n",
    "temp['OPISANIE'] = table['OPISANIE'].apply(norm_str)"
   ]
  },
  {
   "cell_type": "code",
   "execution_count": 19,
   "metadata": {},
   "outputs": [
    {
     "data": {
      "text/html": [
       "<div>\n",
       "<style scoped>\n",
       "    .dataframe tbody tr th:only-of-type {\n",
       "        vertical-align: middle;\n",
       "    }\n",
       "\n",
       "    .dataframe tbody tr th {\n",
       "        vertical-align: top;\n",
       "    }\n",
       "\n",
       "    .dataframe thead th {\n",
       "        text-align: right;\n",
       "    }\n",
       "</style>\n",
       "<table border=\"1\" class=\"dataframe\">\n",
       "  <thead>\n",
       "    <tr style=\"text-align: right;\">\n",
       "      <th></th>\n",
       "      <th>TNVED</th>\n",
       "      <th>OPISANIE</th>\n",
       "    </tr>\n",
       "  </thead>\n",
       "  <tbody>\n",
       "    <tr>\n",
       "      <th>1</th>\n",
       "      <td>8504</td>\n",
       "      <td>трансформатор мощност нел электрооборудован</td>\n",
       "    </tr>\n",
       "    <tr>\n",
       "      <th>8</th>\n",
       "      <td>9019</td>\n",
       "      <td>ролик массажн лиц агломерирова искусствен камн...</td>\n",
       "    </tr>\n",
       "    <tr>\n",
       "      <th>9</th>\n",
       "      <td>9405</td>\n",
       "      <td>светильник уличн металл пластмасс предназначен...</td>\n",
       "    </tr>\n",
       "    <tr>\n",
       "      <th>10</th>\n",
       "      <td>9405</td>\n",
       "      <td>светильник фонар уличн треков подсветк рекламн...</td>\n",
       "    </tr>\n",
       "    <tr>\n",
       "      <th>13</th>\n",
       "      <td>1207</td>\n",
       "      <td>проч сем плод проч масличн культур</td>\n",
       "    </tr>\n",
       "  </tbody>\n",
       "</table>\n",
       "</div>"
      ],
      "text/plain": [
       "    TNVED                                           OPISANIE\n",
       "1    8504        трансформатор мощност нел электрооборудован\n",
       "8    9019  ролик массажн лиц агломерирова искусствен камн...\n",
       "9    9405  светильник уличн металл пластмасс предназначен...\n",
       "10   9405  светильник фонар уличн треков подсветк рекламн...\n",
       "13   1207                 проч сем плод проч масличн культур"
      ]
     },
     "execution_count": 19,
     "metadata": {},
     "output_type": "execute_result"
    }
   ],
   "source": [
    "table['OPISANIE'] = temp['OPISANIE']\n",
    "table.head()"
   ]
  },
  {
   "cell_type": "code",
   "execution_count": 20,
   "metadata": {},
   "outputs": [
    {
     "data": {
      "text/plain": [
       "(1086705, 2)"
      ]
     },
     "execution_count": 20,
     "metadata": {},
     "output_type": "execute_result"
    }
   ],
   "source": [
    "table = table.drop_duplicates(keep='last')\n",
    "table.shape"
   ]
  },
  {
   "cell_type": "code",
   "execution_count": 21,
   "metadata": {},
   "outputs": [
    {
     "name": "stdout",
     "output_type": "stream",
     "text": [
      "изначальный:  (4177899, 3)\n",
      "после первой очистки:  (1598797, 2)\n",
      "после второй очистки:  (1242807, 2)\n",
      "после третьей очистки (после стеммизации):  (1086705, 2)\n"
     ]
    }
   ],
   "source": [
    "shape_after_drop_duplicate3 = table.shape\n",
    "print('изначальный: ', shape_full)\n",
    "print('после первой очистки: ', shape_after_drop_duplicate)\n",
    "print('после второй очистки: ', shape_after_drop_duplicate2)\n",
    "print('после третьей очистки (после стеммизации): ', shape_after_drop_duplicate3)"
   ]
  },
  {
   "cell_type": "code",
   "execution_count": 24,
   "metadata": {},
   "outputs": [
    {
     "data": {
      "text/html": [
       "<div>\n",
       "<style scoped>\n",
       "    .dataframe tbody tr th:only-of-type {\n",
       "        vertical-align: middle;\n",
       "    }\n",
       "\n",
       "    .dataframe tbody tr th {\n",
       "        vertical-align: top;\n",
       "    }\n",
       "\n",
       "    .dataframe thead th {\n",
       "        text-align: right;\n",
       "    }\n",
       "</style>\n",
       "<table border=\"1\" class=\"dataframe\">\n",
       "  <thead>\n",
       "    <tr style=\"text-align: right;\">\n",
       "      <th></th>\n",
       "      <th>TNVED</th>\n",
       "      <th>OPISANIE</th>\n",
       "      <th>len_opisanie</th>\n",
       "    </tr>\n",
       "  </thead>\n",
       "  <tbody>\n",
       "    <tr>\n",
       "      <th>8</th>\n",
       "      <td>9019</td>\n",
       "      <td>ролик массажн лиц агломерирова искусствен камн...</td>\n",
       "      <td>92</td>\n",
       "    </tr>\n",
       "    <tr>\n",
       "      <th>9</th>\n",
       "      <td>9405</td>\n",
       "      <td>светильник уличн металл пластмасс предназначен...</td>\n",
       "      <td>120</td>\n",
       "    </tr>\n",
       "    <tr>\n",
       "      <th>10</th>\n",
       "      <td>9405</td>\n",
       "      <td>светильник фонар уличн треков подсветк рекламн...</td>\n",
       "      <td>164</td>\n",
       "    </tr>\n",
       "    <tr>\n",
       "      <th>13</th>\n",
       "      <td>1207</td>\n",
       "      <td>проч сем плод проч масличн культур</td>\n",
       "      <td>34</td>\n",
       "    </tr>\n",
       "    <tr>\n",
       "      <th>15</th>\n",
       "      <td>8208</td>\n",
       "      <td>нож рубительн машин</td>\n",
       "      <td>19</td>\n",
       "    </tr>\n",
       "  </tbody>\n",
       "</table>\n",
       "</div>"
      ],
      "text/plain": [
       "    TNVED                                           OPISANIE  len_opisanie\n",
       "8    9019  ролик массажн лиц агломерирова искусствен камн...            92\n",
       "9    9405  светильник уличн металл пластмасс предназначен...           120\n",
       "10   9405  светильник фонар уличн треков подсветк рекламн...           164\n",
       "13   1207                 проч сем плод проч масличн культур            34\n",
       "15   8208                                нож рубительн машин            19"
      ]
     },
     "execution_count": 24,
     "metadata": {},
     "output_type": "execute_result"
    }
   ],
   "source": [
    "# Теперь сделаем балансиравку классов, для этого посчитаем сколько в каждом классе данных\n",
    "table['len_opisanie'] = table['OPISANIE'].apply(len)\n",
    "table.head()"
   ]
  },
  {
   "cell_type": "code",
   "execution_count": 25,
   "metadata": {},
   "outputs": [
    {
     "data": {
      "text/html": [
       "<div>\n",
       "<style scoped>\n",
       "    .dataframe tbody tr th:only-of-type {\n",
       "        vertical-align: middle;\n",
       "    }\n",
       "\n",
       "    .dataframe tbody tr th {\n",
       "        vertical-align: top;\n",
       "    }\n",
       "\n",
       "    .dataframe thead th {\n",
       "        text-align: right;\n",
       "    }\n",
       "</style>\n",
       "<table border=\"1\" class=\"dataframe\">\n",
       "  <thead>\n",
       "    <tr style=\"text-align: right;\">\n",
       "      <th></th>\n",
       "      <th>TNVED</th>\n",
       "      <th>OPISANIE</th>\n",
       "      <th>len_opisanie</th>\n",
       "    </tr>\n",
       "  </thead>\n",
       "  <tbody>\n",
       "    <tr>\n",
       "      <th>3646289</th>\n",
       "      <td>8431</td>\n",
       "      <td>част бульдозер экскаватор грейдер стойк рыхлит...</td>\n",
       "      <td>214</td>\n",
       "    </tr>\n",
       "    <tr>\n",
       "      <th>661713</th>\n",
       "      <td>1704</td>\n",
       "      <td>конфет мармелад ассорт фруктов вкус соста сиро...</td>\n",
       "      <td>213</td>\n",
       "    </tr>\n",
       "    <tr>\n",
       "      <th>3530959</th>\n",
       "      <td>8516</td>\n",
       "      <td>электрооборудован обогрев пространств встроен ...</td>\n",
       "      <td>210</td>\n",
       "    </tr>\n",
       "    <tr>\n",
       "      <th>1844688</th>\n",
       "      <td>3004</td>\n",
       "      <td>лекарствен средств белосалик лосьон раствор на...</td>\n",
       "      <td>210</td>\n",
       "    </tr>\n",
       "    <tr>\n",
       "      <th>3371156</th>\n",
       "      <td>8516</td>\n",
       "      <td>тепловентилятор бытов напольн электрическ отоп...</td>\n",
       "      <td>210</td>\n",
       "    </tr>\n",
       "  </tbody>\n",
       "</table>\n",
       "</div>"
      ],
      "text/plain": [
       "         TNVED                                           OPISANIE  \\\n",
       "3646289   8431  част бульдозер экскаватор грейдер стойк рыхлит...   \n",
       "661713    1704  конфет мармелад ассорт фруктов вкус соста сиро...   \n",
       "3530959   8516  электрооборудован обогрев пространств встроен ...   \n",
       "1844688   3004  лекарствен средств белосалик лосьон раствор на...   \n",
       "3371156   8516  тепловентилятор бытов напольн электрическ отоп...   \n",
       "\n",
       "         len_opisanie  \n",
       "3646289           214  \n",
       "661713            213  \n",
       "3530959           210  \n",
       "1844688           210  \n",
       "3371156           210  "
      ]
     },
     "execution_count": 25,
     "metadata": {},
     "output_type": "execute_result"
    }
   ],
   "source": [
    "table = table.sort_values(by='len_opisanie', ascending=False)\n",
    "table.head()"
   ]
  },
  {
   "cell_type": "code",
   "execution_count": 26,
   "metadata": {},
   "outputs": [
    {
     "data": {
      "text/html": [
       "<div>\n",
       "<style scoped>\n",
       "    .dataframe tbody tr th:only-of-type {\n",
       "        vertical-align: middle;\n",
       "    }\n",
       "\n",
       "    .dataframe tbody tr th {\n",
       "        vertical-align: top;\n",
       "    }\n",
       "\n",
       "    .dataframe thead th {\n",
       "        text-align: right;\n",
       "    }\n",
       "</style>\n",
       "<table border=\"1\" class=\"dataframe\">\n",
       "  <thead>\n",
       "    <tr style=\"text-align: right;\">\n",
       "      <th></th>\n",
       "      <th>TNVED</th>\n",
       "      <th>OPISANIE</th>\n",
       "      <th>len_opisanie</th>\n",
       "      <th>cumcount</th>\n",
       "    </tr>\n",
       "  </thead>\n",
       "  <tbody>\n",
       "    <tr>\n",
       "      <th>3646289</th>\n",
       "      <td>8431</td>\n",
       "      <td>част бульдозер экскаватор грейдер стойк рыхлит...</td>\n",
       "      <td>214</td>\n",
       "      <td>0</td>\n",
       "    </tr>\n",
       "    <tr>\n",
       "      <th>661713</th>\n",
       "      <td>1704</td>\n",
       "      <td>конфет мармелад ассорт фруктов вкус соста сиро...</td>\n",
       "      <td>213</td>\n",
       "      <td>0</td>\n",
       "    </tr>\n",
       "    <tr>\n",
       "      <th>3530959</th>\n",
       "      <td>8516</td>\n",
       "      <td>электрооборудован обогрев пространств встроен ...</td>\n",
       "      <td>210</td>\n",
       "      <td>0</td>\n",
       "    </tr>\n",
       "    <tr>\n",
       "      <th>1844688</th>\n",
       "      <td>3004</td>\n",
       "      <td>лекарствен средств белосалик лосьон раствор на...</td>\n",
       "      <td>210</td>\n",
       "      <td>0</td>\n",
       "    </tr>\n",
       "    <tr>\n",
       "      <th>3371156</th>\n",
       "      <td>8516</td>\n",
       "      <td>тепловентилятор бытов напольн электрическ отоп...</td>\n",
       "      <td>210</td>\n",
       "      <td>1</td>\n",
       "    </tr>\n",
       "  </tbody>\n",
       "</table>\n",
       "</div>"
      ],
      "text/plain": [
       "         TNVED                                           OPISANIE  \\\n",
       "3646289   8431  част бульдозер экскаватор грейдер стойк рыхлит...   \n",
       "661713    1704  конфет мармелад ассорт фруктов вкус соста сиро...   \n",
       "3530959   8516  электрооборудован обогрев пространств встроен ...   \n",
       "1844688   3004  лекарствен средств белосалик лосьон раствор на...   \n",
       "3371156   8516  тепловентилятор бытов напольн электрическ отоп...   \n",
       "\n",
       "         len_opisanie  cumcount  \n",
       "3646289           214         0  \n",
       "661713            213         0  \n",
       "3530959           210         0  \n",
       "1844688           210         0  \n",
       "3371156           210         1  "
      ]
     },
     "execution_count": 26,
     "metadata": {},
     "output_type": "execute_result"
    }
   ],
   "source": [
    "table['cumcount'] = table.groupby(\"TNVED\").cumcount()\n",
    "table.head()"
   ]
  },
  {
   "cell_type": "code",
   "execution_count": 27,
   "metadata": {},
   "outputs": [
    {
     "data": {
      "text/html": [
       "<div>\n",
       "<style scoped>\n",
       "    .dataframe tbody tr th:only-of-type {\n",
       "        vertical-align: middle;\n",
       "    }\n",
       "\n",
       "    .dataframe tbody tr th {\n",
       "        vertical-align: top;\n",
       "    }\n",
       "\n",
       "    .dataframe thead th {\n",
       "        text-align: right;\n",
       "    }\n",
       "</style>\n",
       "<table border=\"1\" class=\"dataframe\">\n",
       "  <thead>\n",
       "    <tr style=\"text-align: right;\">\n",
       "      <th></th>\n",
       "      <th>TNVED</th>\n",
       "      <th>OPISANIE</th>\n",
       "      <th>len_opisanie</th>\n",
       "      <th>cumcount</th>\n",
       "    </tr>\n",
       "  </thead>\n",
       "  <tbody>\n",
       "    <tr>\n",
       "      <th>3646289</th>\n",
       "      <td>8431</td>\n",
       "      <td>част бульдозер экскаватор грейдер стойк рыхлит...</td>\n",
       "      <td>214</td>\n",
       "      <td>0</td>\n",
       "    </tr>\n",
       "    <tr>\n",
       "      <th>661713</th>\n",
       "      <td>1704</td>\n",
       "      <td>конфет мармелад ассорт фруктов вкус соста сиро...</td>\n",
       "      <td>213</td>\n",
       "      <td>0</td>\n",
       "    </tr>\n",
       "    <tr>\n",
       "      <th>3530959</th>\n",
       "      <td>8516</td>\n",
       "      <td>электрооборудован обогрев пространств встроен ...</td>\n",
       "      <td>210</td>\n",
       "      <td>0</td>\n",
       "    </tr>\n",
       "    <tr>\n",
       "      <th>1844688</th>\n",
       "      <td>3004</td>\n",
       "      <td>лекарствен средств белосалик лосьон раствор на...</td>\n",
       "      <td>210</td>\n",
       "      <td>0</td>\n",
       "    </tr>\n",
       "    <tr>\n",
       "      <th>3371156</th>\n",
       "      <td>8516</td>\n",
       "      <td>тепловентилятор бытов напольн электрическ отоп...</td>\n",
       "      <td>210</td>\n",
       "      <td>1</td>\n",
       "    </tr>\n",
       "  </tbody>\n",
       "</table>\n",
       "</div>"
      ],
      "text/plain": [
       "         TNVED                                           OPISANIE  \\\n",
       "3646289   8431  част бульдозер экскаватор грейдер стойк рыхлит...   \n",
       "661713    1704  конфет мармелад ассорт фруктов вкус соста сиро...   \n",
       "3530959   8516  электрооборудован обогрев пространств встроен ...   \n",
       "1844688   3004  лекарствен средств белосалик лосьон раствор на...   \n",
       "3371156   8516  тепловентилятор бытов напольн электрическ отоп...   \n",
       "\n",
       "         len_opisanie  cumcount  \n",
       "3646289           214         0  \n",
       "661713            213         0  \n",
       "3530959           210         0  \n",
       "1844688           210         0  \n",
       "3371156           210         1  "
      ]
     },
     "execution_count": 27,
     "metadata": {},
     "output_type": "execute_result"
    }
   ],
   "source": [
    "# если в классе больше 200 примеров, то оставляем 200 самых длинных описаний\n",
    "table = table.query(\"cumcount < 200\")\n",
    "table.head()"
   ]
  },
  {
   "cell_type": "code",
   "execution_count": 28,
   "metadata": {},
   "outputs": [
    {
     "data": {
      "text/html": [
       "<div>\n",
       "<style scoped>\n",
       "    .dataframe tbody tr th:only-of-type {\n",
       "        vertical-align: middle;\n",
       "    }\n",
       "\n",
       "    .dataframe tbody tr th {\n",
       "        vertical-align: top;\n",
       "    }\n",
       "\n",
       "    .dataframe thead th {\n",
       "        text-align: right;\n",
       "    }\n",
       "</style>\n",
       "<table border=\"1\" class=\"dataframe\">\n",
       "  <thead>\n",
       "    <tr style=\"text-align: right;\">\n",
       "      <th></th>\n",
       "      <th>OPISANIE</th>\n",
       "      <th>len_opisanie</th>\n",
       "      <th>cumcount</th>\n",
       "    </tr>\n",
       "  </thead>\n",
       "  <tbody>\n",
       "    <tr>\n",
       "      <th>count</th>\n",
       "      <td>1192.000000</td>\n",
       "      <td>1192.000000</td>\n",
       "      <td>1192.000000</td>\n",
       "    </tr>\n",
       "    <tr>\n",
       "      <th>mean</th>\n",
       "      <td>129.191275</td>\n",
       "      <td>129.191275</td>\n",
       "      <td>129.191275</td>\n",
       "    </tr>\n",
       "    <tr>\n",
       "      <th>std</th>\n",
       "      <td>79.152460</td>\n",
       "      <td>79.152460</td>\n",
       "      <td>79.152460</td>\n",
       "    </tr>\n",
       "    <tr>\n",
       "      <th>min</th>\n",
       "      <td>1.000000</td>\n",
       "      <td>1.000000</td>\n",
       "      <td>1.000000</td>\n",
       "    </tr>\n",
       "    <tr>\n",
       "      <th>25%</th>\n",
       "      <td>47.000000</td>\n",
       "      <td>47.000000</td>\n",
       "      <td>47.000000</td>\n",
       "    </tr>\n",
       "    <tr>\n",
       "      <th>50%</th>\n",
       "      <td>189.000000</td>\n",
       "      <td>189.000000</td>\n",
       "      <td>189.000000</td>\n",
       "    </tr>\n",
       "    <tr>\n",
       "      <th>75%</th>\n",
       "      <td>200.000000</td>\n",
       "      <td>200.000000</td>\n",
       "      <td>200.000000</td>\n",
       "    </tr>\n",
       "    <tr>\n",
       "      <th>max</th>\n",
       "      <td>200.000000</td>\n",
       "      <td>200.000000</td>\n",
       "      <td>200.000000</td>\n",
       "    </tr>\n",
       "  </tbody>\n",
       "</table>\n",
       "</div>"
      ],
      "text/plain": [
       "          OPISANIE  len_opisanie     cumcount\n",
       "count  1192.000000   1192.000000  1192.000000\n",
       "mean    129.191275    129.191275   129.191275\n",
       "std      79.152460     79.152460    79.152460\n",
       "min       1.000000      1.000000     1.000000\n",
       "25%      47.000000     47.000000    47.000000\n",
       "50%     189.000000    189.000000   189.000000\n",
       "75%     200.000000    200.000000   200.000000\n",
       "max     200.000000    200.000000   200.000000"
      ]
     },
     "execution_count": 28,
     "metadata": {},
     "output_type": "execute_result"
    }
   ],
   "source": [
    "table.groupby(['TNVED']).count().describe()"
   ]
  },
  {
   "cell_type": "code",
   "execution_count": 29,
   "metadata": {},
   "outputs": [
    {
     "name": "stdout",
     "output_type": "stream",
     "text": [
      "изначальный:  (4177899, 3)\n",
      "после первой очистки:  (1598797, 2)\n",
      "после второй очистки:  (1242807, 2)\n",
      "после третьей очистки (после стеммизации):  (1086705, 2)\n",
      "после четвертой очистки (после балансировки классов):  (153996, 4)\n"
     ]
    }
   ],
   "source": [
    "shape_after_balanced_classes = table.shape\n",
    "print('изначальный: ', shape_full)\n",
    "print('после первой очистки: ', shape_after_drop_duplicate)\n",
    "print('после второй очистки: ', shape_after_drop_duplicate2)\n",
    "print('после третьей очистки (после стеммизации): ', shape_after_drop_duplicate3)\n",
    "print('после четвертой очистки (после балансировки классов): ', shape_after_balanced_classes)"
   ]
  },
  {
   "cell_type": "code",
   "execution_count": 30,
   "metadata": {},
   "outputs": [
    {
     "data": {
      "text/html": [
       "<div>\n",
       "<style scoped>\n",
       "    .dataframe tbody tr th:only-of-type {\n",
       "        vertical-align: middle;\n",
       "    }\n",
       "\n",
       "    .dataframe tbody tr th {\n",
       "        vertical-align: top;\n",
       "    }\n",
       "\n",
       "    .dataframe thead th {\n",
       "        text-align: right;\n",
       "    }\n",
       "</style>\n",
       "<table border=\"1\" class=\"dataframe\">\n",
       "  <thead>\n",
       "    <tr style=\"text-align: right;\">\n",
       "      <th></th>\n",
       "      <th>TNVED</th>\n",
       "      <th>OPISANIE</th>\n",
       "    </tr>\n",
       "  </thead>\n",
       "  <tbody>\n",
       "    <tr>\n",
       "      <th>3646289</th>\n",
       "      <td>8431</td>\n",
       "      <td>част бульдозер экскаватор грейдер стойк рыхлит...</td>\n",
       "    </tr>\n",
       "    <tr>\n",
       "      <th>661713</th>\n",
       "      <td>1704</td>\n",
       "      <td>конфет мармелад ассорт фруктов вкус соста сиро...</td>\n",
       "    </tr>\n",
       "    <tr>\n",
       "      <th>3530959</th>\n",
       "      <td>8516</td>\n",
       "      <td>электрооборудован обогрев пространств встроен ...</td>\n",
       "    </tr>\n",
       "    <tr>\n",
       "      <th>1844688</th>\n",
       "      <td>3004</td>\n",
       "      <td>лекарствен средств белосалик лосьон раствор на...</td>\n",
       "    </tr>\n",
       "    <tr>\n",
       "      <th>3371156</th>\n",
       "      <td>8516</td>\n",
       "      <td>тепловентилятор бытов напольн электрическ отоп...</td>\n",
       "    </tr>\n",
       "  </tbody>\n",
       "</table>\n",
       "</div>"
      ],
      "text/plain": [
       "         TNVED                                           OPISANIE\n",
       "3646289   8431  част бульдозер экскаватор грейдер стойк рыхлит...\n",
       "661713    1704  конфет мармелад ассорт фруктов вкус соста сиро...\n",
       "3530959   8516  электрооборудован обогрев пространств встроен ...\n",
       "1844688   3004  лекарствен средств белосалик лосьон раствор на...\n",
       "3371156   8516  тепловентилятор бытов напольн электрическ отоп..."
      ]
     },
     "execution_count": 30,
     "metadata": {},
     "output_type": "execute_result"
    }
   ],
   "source": [
    "del table['len_opisanie']\n",
    "del table['cumcount']\n",
    "table.head()"
   ]
  },
  {
   "cell_type": "code",
   "execution_count": 46,
   "metadata": {},
   "outputs": [],
   "source": [
    "table.to_csv('dataset_clean_balanced_classes.csv')"
   ]
  },
  {
   "cell_type": "code",
   "execution_count": 44,
   "metadata": {},
   "outputs": [
    {
     "data": {
      "text/html": [
       "<div>\n",
       "<style scoped>\n",
       "    .dataframe tbody tr th:only-of-type {\n",
       "        vertical-align: middle;\n",
       "    }\n",
       "\n",
       "    .dataframe tbody tr th {\n",
       "        vertical-align: top;\n",
       "    }\n",
       "\n",
       "    .dataframe thead th {\n",
       "        text-align: right;\n",
       "    }\n",
       "</style>\n",
       "<table border=\"1\" class=\"dataframe\">\n",
       "  <thead>\n",
       "    <tr style=\"text-align: right;\">\n",
       "      <th></th>\n",
       "      <th>TNVED</th>\n",
       "      <th>OPISANIE</th>\n",
       "    </tr>\n",
       "  </thead>\n",
       "  <tbody>\n",
       "    <tr>\n",
       "      <th>1295879</th>\n",
       "      <td>5515</td>\n",
       "      <td>ткан</td>\n",
       "    </tr>\n",
       "    <tr>\n",
       "      <th>2875524</th>\n",
       "      <td>8522</td>\n",
       "      <td>част</td>\n",
       "    </tr>\n",
       "    <tr>\n",
       "      <th>470342</th>\n",
       "      <td>1214</td>\n",
       "      <td>сен</td>\n",
       "    </tr>\n",
       "    <tr>\n",
       "      <th>1152238</th>\n",
       "      <td>9005</td>\n",
       "      <td>луп</td>\n",
       "    </tr>\n",
       "    <tr>\n",
       "      <th>3769971</th>\n",
       "      <td>8417</td>\n",
       "      <td>печ</td>\n",
       "    </tr>\n",
       "    <tr>\n",
       "      <th>1210427</th>\n",
       "      <td>2801</td>\n",
       "      <td>йод</td>\n",
       "    </tr>\n",
       "    <tr>\n",
       "      <th>2254117</th>\n",
       "      <td>209</td>\n",
       "      <td>сал</td>\n",
       "    </tr>\n",
       "    <tr>\n",
       "      <th>4063016</th>\n",
       "      <td>9604</td>\n",
       "      <td>сит</td>\n",
       "    </tr>\n",
       "    <tr>\n",
       "      <th>4076323</th>\n",
       "      <td>407</td>\n",
       "      <td>яйц</td>\n",
       "    </tr>\n",
       "    <tr>\n",
       "      <th>1685678</th>\n",
       "      <td>9104</td>\n",
       "      <td>час</td>\n",
       "    </tr>\n",
       "    <tr>\n",
       "      <th>3325997</th>\n",
       "      <td>9201</td>\n",
       "      <td>роя</td>\n",
       "    </tr>\n",
       "    <tr>\n",
       "      <th>1274607</th>\n",
       "      <td>903</td>\n",
       "      <td>мат</td>\n",
       "    </tr>\n",
       "    <tr>\n",
       "      <th>2684678</th>\n",
       "      <td>4904</td>\n",
       "      <td>нот</td>\n",
       "    </tr>\n",
       "    <tr>\n",
       "      <th>3758455</th>\n",
       "      <td>2804</td>\n",
       "      <td>сел</td>\n",
       "    </tr>\n",
       "    <tr>\n",
       "      <th>2524312</th>\n",
       "      <td>5804</td>\n",
       "      <td>тюл</td>\n",
       "    </tr>\n",
       "    <tr>\n",
       "      <th>2045135</th>\n",
       "      <td>2509</td>\n",
       "      <td>мел</td>\n",
       "    </tr>\n",
       "    <tr>\n",
       "      <th>4032268</th>\n",
       "      <td>8907</td>\n",
       "      <td>бу</td>\n",
       "    </tr>\n",
       "    <tr>\n",
       "      <th>3948468</th>\n",
       "      <td>2907</td>\n",
       "      <td></td>\n",
       "    </tr>\n",
       "    <tr>\n",
       "      <th>692003</th>\n",
       "      <td>2925</td>\n",
       "      <td></td>\n",
       "    </tr>\n",
       "    <tr>\n",
       "      <th>1747199</th>\n",
       "      <td>2105</td>\n",
       "      <td></td>\n",
       "    </tr>\n",
       "  </tbody>\n",
       "</table>\n",
       "</div>"
      ],
      "text/plain": [
       "         TNVED OPISANIE\n",
       "1295879   5515     ткан\n",
       "2875524   8522     част\n",
       "470342    1214      сен\n",
       "1152238   9005      луп\n",
       "3769971   8417      печ\n",
       "1210427   2801      йод\n",
       "2254117    209      сал\n",
       "4063016   9604      сит\n",
       "4076323    407      яйц\n",
       "1685678   9104      час\n",
       "3325997   9201      роя\n",
       "1274607    903      мат\n",
       "2684678   4904      нот\n",
       "3758455   2804      сел\n",
       "2524312   5804      тюл\n",
       "2045135   2509      мел\n",
       "4032268   8907       бу\n",
       "3948468   2907         \n",
       "692003    2925         \n",
       "1747199   2105         "
      ]
     },
     "execution_count": 44,
     "metadata": {},
     "output_type": "execute_result"
    }
   ],
   "source": [
    "table[153976 : 153996]"
   ]
  },
  {
   "cell_type": "markdown",
   "metadata": {},
   "source": [
    "## перейдем к векторизации описания"
   ]
  },
  {
   "cell_type": "code",
   "execution_count": 51,
   "metadata": {},
   "outputs": [],
   "source": [
    "from stop_words import get_stop_words\n",
    "from sklearn.feature_extraction.text import CountVectorizer\n",
    "from sklearn.feature_extraction.text import TfidfVectorizer\n",
    "import matplotlib.pyplot as plt\n",
    "from sklearn.manifold import TSNE"
   ]
  },
  {
   "cell_type": "code",
   "execution_count": 52,
   "metadata": {},
   "outputs": [
    {
     "name": "stdout",
     "output_type": "stream",
     "text": [
      "['а', 'в', 'г', 'е', 'ж', 'и', 'к', 'м', 'о', 'с', 'т', 'у', 'я', 'бы', 'во', 'вы', 'да', 'до', 'ее', 'ей', 'ею', 'её', 'же', 'за', 'из', 'им', 'их', 'ли', 'мы', 'на', 'не', 'ни', 'но', 'ну', 'нх', 'об', 'он', 'от', 'по', 'со', 'та', 'те', 'то', 'ту', 'ты', 'уж', 'без', 'был', 'вам', 'вас', 'ваш', 'вон', 'вот', 'все', 'всю', 'вся', 'всё', 'где', 'год', 'два', 'две', 'дел', 'для', 'его', 'ему', 'еще', 'ещё', 'или', 'ими', 'имя', 'как', 'кем', 'ком', 'кто', 'лет', 'мне', 'мог', 'мож', 'мои', 'мой', 'мор', 'моя', 'моё', 'над', 'нам', 'нас', 'наш', 'нее', 'ней', 'нем', 'нет', 'нею', 'неё', 'них', 'оба', 'она', 'они', 'оно', 'под', 'пор', 'при', 'про', 'раз', 'сам', 'сих', 'так', 'там', 'тем', 'тех', 'том', 'тот', 'тою', 'три', 'тут', 'уже', 'чем', 'что', 'эта', 'эти', 'это', 'эту', 'алло', 'буду', 'будь', 'бывь', 'была', 'были', 'было', 'быть', 'вами', 'ваша', 'ваше', 'ваши', 'ведь', 'весь', 'вниз', 'всем', 'всех', 'всею', 'года', 'году', 'даже', 'двух', 'день', 'если', 'есть', 'зато', 'кого', 'кому', 'куда', 'лишь', 'люди', 'мало', 'меля', 'меня', 'мимо', 'мира', 'мной', 'мною', 'мочь', 'надо', 'нами', 'наша', 'наше', 'наши', 'него', 'нему', 'ниже', 'ними', 'один', 'пока', 'пора', 'пять', 'рано', 'сама', 'сами', 'само', 'саму', 'свое', 'свои', 'свою', 'себе', 'себя', 'семь', 'стал', 'суть', 'твой', 'твоя', 'твоё', 'тебе', 'тебя', 'теми', 'того', 'тоже', 'тому', 'туда', 'хоть', 'хотя', 'чаще', 'чего', 'чему', 'чтоб', 'чуть', 'этим', 'этих', 'этой', 'этом', 'этот', 'более', 'будем', 'будет', 'будто', 'будут', 'вверх', 'вдали', 'вдруг', 'везде', 'внизу', 'время', 'всего', 'всеми', 'всему', 'всюду', 'давно', 'даром', 'долго', 'друго', 'жизнь', 'занят', 'затем', 'зачем', 'здесь', 'иметь', 'какая', 'какой', 'когда', 'кроме', 'лучше', 'между', 'менее', 'много', 'могут', 'может', 'можно', 'можхо', 'назад', 'низко', 'нужно', 'одной', 'около', 'опять', 'очень', 'перед', 'позже', 'после', 'потом', 'почти', 'пятый', 'разве', 'рядом', 'самим', 'самих', 'самой', 'самом', 'своей', 'своих', 'сеаой', 'снова', 'собой', 'собою', 'такая', 'также', 'такие', 'такое', 'такой', 'тобой', 'тобою', 'тогда', 'тысяч', 'уметь', 'часто', 'через', 'чтобы', 'шесть', 'этими', 'этого', 'этому', 'близко', 'больше', 'будете', 'будешь', 'бывает', 'важная', 'важное', 'важные', 'важный', 'вокруг', 'восемь', 'всегда', 'второй', 'далеко', 'дальше', 'девять', 'десять', 'должно', 'другая', 'другие', 'других', 'другое', 'другой', 'занята', 'занято', 'заняты', 'значит', 'именно', 'иногда', 'каждая', 'каждое', 'каждые', 'каждый', 'кругом', 'меньше', 'начала', 'нельзя', 'нибудь', 'никуда', 'ничего', 'обычно', 'однако', 'одного', 'отсюда', 'первый', 'потому', 'почему', 'просто', 'против', 'раньше', 'самими', 'самого', 'самому', 'своего', 'сейчас', 'сказал', 'совсем', 'теперь', 'только', 'третий', 'хорошо', 'хотеть', 'хочешь', 'четыре', 'шестой', 'восьмой', 'впрочем', 'времени', 'говорил', 'говорит', 'девятый', 'десятый', 'кажется', 'конечно', 'которая', 'которой', 'которые', 'который', 'которых', 'наверху', 'наконец', 'недавно', 'немного', 'нередко', 'никогда', 'однажды', 'посреди', 'сегодня', 'седьмой', 'сказала', 'сказать', 'сколько', 'слишком', 'сначала', 'спасибо', 'человек', 'двадцать', 'довольно', 'которого', 'наиболее', 'недалеко', 'особенно', 'отовсюду', 'двадцатый', 'миллионов', 'несколько', 'прекрасно', 'процентов', 'четвертый', 'двенадцать', 'непрерывно', 'пожалуйста', 'пятнадцать', 'семнадцать', 'тринадцать', 'двенадцатый', 'одиннадцать', 'пятнадцатый', 'семнадцатый', 'тринадцатый', 'шестнадцать', 'восемнадцать', 'девятнадцать', 'одиннадцатый', 'четырнадцать', 'шестнадцатый', 'восемнадцатый', 'девятнадцатый', 'действительно', 'четырнадцатый', 'многочисленная', 'многочисленное', 'многочисленные', 'многочисленный']\n"
     ]
    }
   ],
   "source": [
    "# посмотрим на стоп слова\n",
    "stop_words_ru = get_stop_words('ru')\n",
    "print(stop_words_ru)"
   ]
  },
  {
   "cell_type": "code",
   "execution_count": 53,
   "metadata": {},
   "outputs": [],
   "source": [
    "stop_words_ru = stop_words_ru + ['предназначены' + 'является' + 'предназначенны' + 'применяется' + 'изготовлен']\n",
    "# нормализуем стоп слова тоже\n",
    "stop_words_all = [stemmer_ru.stem(word) for word in stop_words_ru]"
   ]
  },
  {
   "cell_type": "code",
   "execution_count": 55,
   "metadata": {},
   "outputs": [
    {
     "name": "stdout",
     "output_type": "stream",
     "text": [
      "Размер словаря: 10289\n"
     ]
    }
   ],
   "source": [
    "text = table['OPISANIE']\n",
    "countVectorizer = CountVectorizer(stop_words=stop_words_all, min_df=15).fit(text)\n",
    "vocabulary_countVectorizer = countVectorizer.get_feature_names()\n",
    "print('Размер словаря:', len(vocabulary_countVectorizer))"
   ]
  },
  {
   "cell_type": "code",
   "execution_count": 56,
   "metadata": {},
   "outputs": [
    {
     "name": "stdout",
     "output_type": "stream",
     "text": [
      "Top-100 слов: ('предназнач', 'издел', 'производств', 'упаковк', 'качеств', 'вид', 'вес', 'использ', 'средств', 'использован', 'изготовлен', 'промышлен', 'продаж', 'спирт', 'материал', 'машин', 'материа', 'представля', 'товар', 'поставля', 'упакова', 'применя', 'содержан', 'размер', 'марк', 'комплект', 'соста', 'оборудован', 'пищев', 'предназначен', 'основ', 'розничн', 'металл', 'картон', 'покрыт', 'нит', 'цвет', 'веществ', 'арт', 'синтетическ', 'форм', 'коробк', 'текстильн', 'продукт', 'химическ', 'цел', 'обработк', 'ткан', 'применен', 'работ', 'образц', 'поддон', 'нетт', 'двигател', 'элемент', 'явля', 'различн', 'устройств', 'масс', 'изготовл', 'трикотажн', 'проведен', 'систем', 'рулон', 'безсодержан', 'лабораторн', 'взросл', 'этилов', 'расфасова', 'набор', 'техническ', 'употреблен', 'продукц', 'бел', 'невоенногоназначен', 'проч', 'ремонт', 'тип', 'мешк', 'электрическ', 'сыр', 'нов', 'вод', 'получен', 'металлическ', 'полимерн', 'содержа', 'номер', 'стекл', 'масл', 'запасн', 'метод', 'пищ', 'индивидуальн', 'установк', 'длин', 'сло', 'модел', 'способ', 'соединен')\n"
     ]
    }
   ],
   "source": [
    "X_countVectorizer = countVectorizer.transform(text)\n",
    "top_tokens, _ = zip(*sorted(zip(vocabulary_countVectorizer, X_countVectorizer.sum(axis=0).getA1()), key=lambda x: x[1], reverse=True)[:100])\n",
    "print('Top-100 слов:', top_tokens)"
   ]
  },
  {
   "cell_type": "code",
   "execution_count": 57,
   "metadata": {},
   "outputs": [
    {
     "name": "stdout",
     "output_type": "stream",
     "text": [
      "Top-100 слов самых не популярных: ('несодержитсвободн', 'нефтепровод', 'нефтепромыслов', 'неявляетсярадиационностойк', 'нмд', 'нормализ', 'одноголов', 'оксихлоридн', 'окулировк', 'опечатыван', 'орешек', 'основовязальн', 'отгруж', 'отжимн', 'ощипа', 'передат', 'перекрестн', 'пиросульф', 'пластификац', 'пластов', 'пленкообраз', 'пневмоколесн', 'повседн', 'полуглянцев', 'предсталя', 'прилипан', 'примененя', 'проектн', 'промышленнос', 'пропанов', 'пропионов', 'просеян', 'профессион', 'раздражен', 'распашн', 'реа', 'регулирова', 'репродукц', 'рецепт', 'руллон', 'садк', 'самозатуха', 'сантехник', 'свидетельств', 'свистк', 'секонд', 'серг', 'синев', 'служебн', 'смачива', 'смз', 'смс', 'содержащ', 'соотн', 'спел', 'станкостроен', 'статус', 'стеклотар', 'строител', 'сухогрузн', 'съем', 'татнефт', 'тверден', 'телевиден', 'тенсел', 'теплогенератор', 'термоизоляцион', 'термоусадк', 'террариум', 'технологич', 'тиш', 'токсин', 'траспортировк', 'удон', 'узорчат', 'украин', 'укрепл', 'устройст', 'флорин', 'фокусн', 'фотоаппарат', 'хлордимеформ', 'холстопрошивн', 'целюлозн', 'цеолит', 'чел', 'шаровидн', 'широкополочн', 'штранг', 'штыков', 'шумовк', 'эвм', 'экспл', 'экстрагирован', 'элеваторн', 'электровентилятор', 'энтеральн', 'эпоксидирова', 'юан', 'ягн')\n"
     ]
    }
   ],
   "source": [
    "X_countVectorizer = countVectorizer.transform(text)\n",
    "top_tokens, _ = zip(*sorted(zip(vocabulary_countVectorizer, X_countVectorizer.sum(axis=0).getA1()), key=lambda x: x[1], reverse=True))\n",
    "print('Top-100 слов самых не популярных:', top_tokens[len(top_tokens) - 100: ])"
   ]
  }
 ],
 "metadata": {
  "kernelspec": {
   "display_name": "Python 3",
   "language": "python",
   "name": "python3"
  },
  "language_info": {
   "codemirror_mode": {
    "name": "ipython",
    "version": 3
   },
   "file_extension": ".py",
   "mimetype": "text/x-python",
   "name": "python",
   "nbconvert_exporter": "python",
   "pygments_lexer": "ipython3",
   "version": "3.7.9"
  }
 },
 "nbformat": 4,
 "nbformat_minor": 5
}
